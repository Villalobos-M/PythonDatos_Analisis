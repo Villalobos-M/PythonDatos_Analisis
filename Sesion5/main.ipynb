{
 "cells": [
  {
   "cell_type": "code",
   "execution_count": 2,
   "metadata": {},
   "outputs": [],
   "source": [
    "import pandas as pd\n",
    "import sqlalchemy as db\n",
    "from sqlalchemy import text\n",
    "from utils import connection as con #se puede traer un aechivo por el __init"
   ]
  },
  {
   "cell_type": "code",
   "execution_count": 3,
   "metadata": {},
   "outputs": [],
   "source": [
    "conn_retail_db = con.connect_retail_db()\n",
    "conn_dw_retail = con.connect_dw_retail()"
   ]
  },
  {
   "cell_type": "code",
   "execution_count": 4,
   "metadata": {},
   "outputs": [],
   "source": [
    "from etl import extract as ex"
   ]
  },
  {
   "cell_type": "code",
   "execution_count": 5,
   "metadata": {},
   "outputs": [],
   "source": [
    "df_customers = ex.extract_table(\"customers\", conn_retail_db)\n",
    "df_orders = ex.extract_table(\"orders\", conn_retail_db)\n",
    "df_order_items = ex.extract_table(\"order_items\", conn_retail_db)\n",
    "df_products = ex.extract_table(\"products\", conn_retail_db)\n",
    "df_categories = ex.extract_table(\"categories\", conn_retail_db)\n",
    "df_departments = ex.extract_table(\"departments\", conn_retail_db)\n"
   ]
  },
  {
   "cell_type": "code",
   "execution_count": 5,
   "metadata": {},
   "outputs": [],
   "source": [
    "from etl import load"
   ]
  },
  {
   "cell_type": "code",
   "execution_count": 2,
   "metadata": {},
   "outputs": [],
   "source": [
    "#load.load_dw_retail('dimension_customer', conn_dw_retail, df_customers.drop('customers_password', axis=1))"
   ]
  },
  {
   "cell_type": "code",
   "execution_count": 7,
   "metadata": {},
   "outputs": [
    {
     "data": {
      "text/html": [
       "<div>\n",
       "<style scoped>\n",
       "    .dataframe tbody tr th:only-of-type {\n",
       "        vertical-align: middle;\n",
       "    }\n",
       "\n",
       "    .dataframe tbody tr th {\n",
       "        vertical-align: top;\n",
       "    }\n",
       "\n",
       "    .dataframe thead th {\n",
       "        text-align: right;\n",
       "    }\n",
       "</style>\n",
       "<table border=\"1\" class=\"dataframe\">\n",
       "  <thead>\n",
       "    <tr style=\"text-align: right;\">\n",
       "      <th></th>\n",
       "      <th>order_id</th>\n",
       "      <th>order_date</th>\n",
       "      <th>order_customer_id</th>\n",
       "      <th>order_status</th>\n",
       "      <th>total_items</th>\n",
       "      <th>total_amount</th>\n",
       "      <th>time_id</th>\n",
       "    </tr>\n",
       "  </thead>\n",
       "  <tbody>\n",
       "    <tr>\n",
       "      <th>0</th>\n",
       "      <td>1</td>\n",
       "      <td>2013-07-25</td>\n",
       "      <td>11599</td>\n",
       "      <td>CLOSED</td>\n",
       "      <td>1</td>\n",
       "      <td>299.98</td>\n",
       "      <td>20130725</td>\n",
       "    </tr>\n",
       "    <tr>\n",
       "      <th>1</th>\n",
       "      <td>2</td>\n",
       "      <td>2013-07-25</td>\n",
       "      <td>256</td>\n",
       "      <td>PENDING_PAYMENT</td>\n",
       "      <td>7</td>\n",
       "      <td>579.98</td>\n",
       "      <td>20130725</td>\n",
       "    </tr>\n",
       "    <tr>\n",
       "      <th>2</th>\n",
       "      <td>4</td>\n",
       "      <td>2013-07-25</td>\n",
       "      <td>8827</td>\n",
       "      <td>CLOSED</td>\n",
       "      <td>14</td>\n",
       "      <td>699.85</td>\n",
       "      <td>20130725</td>\n",
       "    </tr>\n",
       "    <tr>\n",
       "      <th>3</th>\n",
       "      <td>5</td>\n",
       "      <td>2013-07-25</td>\n",
       "      <td>11318</td>\n",
       "      <td>COMPLETE</td>\n",
       "      <td>10</td>\n",
       "      <td>1129.86</td>\n",
       "      <td>20130725</td>\n",
       "    </tr>\n",
       "    <tr>\n",
       "      <th>4</th>\n",
       "      <td>7</td>\n",
       "      <td>2013-07-25</td>\n",
       "      <td>4530</td>\n",
       "      <td>COMPLETE</td>\n",
       "      <td>7</td>\n",
       "      <td>579.92</td>\n",
       "      <td>20130725</td>\n",
       "    </tr>\n",
       "    <tr>\n",
       "      <th>...</th>\n",
       "      <td>...</td>\n",
       "      <td>...</td>\n",
       "      <td>...</td>\n",
       "      <td>...</td>\n",
       "      <td>...</td>\n",
       "      <td>...</td>\n",
       "      <td>...</td>\n",
       "    </tr>\n",
       "    <tr>\n",
       "      <th>57426</th>\n",
       "      <td>68879</td>\n",
       "      <td>2014-07-09</td>\n",
       "      <td>778</td>\n",
       "      <td>COMPLETE</td>\n",
       "      <td>3</td>\n",
       "      <td>1259.97</td>\n",
       "      <td>20140709</td>\n",
       "    </tr>\n",
       "    <tr>\n",
       "      <th>57427</th>\n",
       "      <td>68880</td>\n",
       "      <td>2014-07-13</td>\n",
       "      <td>1117</td>\n",
       "      <td>COMPLETE</td>\n",
       "      <td>17</td>\n",
       "      <td>999.77</td>\n",
       "      <td>20140713</td>\n",
       "    </tr>\n",
       "    <tr>\n",
       "      <th>57428</th>\n",
       "      <td>68881</td>\n",
       "      <td>2014-07-19</td>\n",
       "      <td>2518</td>\n",
       "      <td>PENDING_PAYMENT</td>\n",
       "      <td>1</td>\n",
       "      <td>129.99</td>\n",
       "      <td>20140719</td>\n",
       "    </tr>\n",
       "    <tr>\n",
       "      <th>57429</th>\n",
       "      <td>68882</td>\n",
       "      <td>2014-07-22</td>\n",
       "      <td>10000</td>\n",
       "      <td>ON_HOLD</td>\n",
       "      <td>2</td>\n",
       "      <td>109.99</td>\n",
       "      <td>20140722</td>\n",
       "    </tr>\n",
       "    <tr>\n",
       "      <th>57430</th>\n",
       "      <td>68883</td>\n",
       "      <td>2014-07-23</td>\n",
       "      <td>5533</td>\n",
       "      <td>COMPLETE</td>\n",
       "      <td>4</td>\n",
       "      <td>2149.99</td>\n",
       "      <td>20140723</td>\n",
       "    </tr>\n",
       "  </tbody>\n",
       "</table>\n",
       "<p>57431 rows × 7 columns</p>\n",
       "</div>"
      ],
      "text/plain": [
       "       order_id order_date  order_customer_id     order_status  total_items  \\\n",
       "0             1 2013-07-25              11599           CLOSED            1   \n",
       "1             2 2013-07-25                256  PENDING_PAYMENT            7   \n",
       "2             4 2013-07-25               8827           CLOSED           14   \n",
       "3             5 2013-07-25              11318         COMPLETE           10   \n",
       "4             7 2013-07-25               4530         COMPLETE            7   \n",
       "...         ...        ...                ...              ...          ...   \n",
       "57426     68879 2014-07-09                778         COMPLETE            3   \n",
       "57427     68880 2014-07-13               1117         COMPLETE           17   \n",
       "57428     68881 2014-07-19               2518  PENDING_PAYMENT            1   \n",
       "57429     68882 2014-07-22              10000          ON_HOLD            2   \n",
       "57430     68883 2014-07-23               5533         COMPLETE            4   \n",
       "\n",
       "       total_amount   time_id  \n",
       "0            299.98  20130725  \n",
       "1            579.98  20130725  \n",
       "2            699.85  20130725  \n",
       "3           1129.86  20130725  \n",
       "4            579.92  20130725  \n",
       "...             ...       ...  \n",
       "57426       1259.97  20140709  \n",
       "57427        999.77  20140713  \n",
       "57428        129.99  20140719  \n",
       "57429        109.99  20140722  \n",
       "57430       2149.99  20140723  \n",
       "\n",
       "[57431 rows x 7 columns]"
      ]
     },
     "execution_count": 7,
     "metadata": {},
     "output_type": "execute_result"
    }
   ],
   "source": [
    "df = pd.read_sql(\"SELECT * FROM fact_orders\", con=conn_dw_retail)\n",
    "df"
   ]
  },
  {
   "cell_type": "code",
   "execution_count": 17,
   "metadata": {},
   "outputs": [],
   "source": [
    "load.load_dw_retail('dimension_order', conn_dw_retail, df_orders)"
   ]
  },
  {
   "cell_type": "code",
   "execution_count": 22,
   "metadata": {},
   "outputs": [],
   "source": [
    "load.load_dw_retail('dimension_order_items', conn_dw_retail, df_order_items)"
   ]
  },
  {
   "cell_type": "code",
   "execution_count": null,
   "metadata": {},
   "outputs": [
    {
     "ename": "",
     "evalue": "",
     "output_type": "error",
     "traceback": [
      "\u001b[1;31mNo se pudo iniciar el Kernel. \n",
      "\u001b[1;31mNo se ha podido iniciar el Kernel \"Python 3 (ipykernel)\" debido a un tiempo de espera para que se utilicen los puertos. \n",
      "\u001b[1;31mVer Jupyter <a href='command:jupyter.viewOutput'>log</a> para más detalles."
     ]
    }
   ],
   "source": [
    "from etl import transform as t"
   ]
  },
  {
   "cell_type": "code",
   "execution_count": null,
   "metadata": {},
   "outputs": [],
   "source": [
    "#No se puede hacer pot python asi que se ejcuta directamente el query en sql\n",
    "query = \"\"\"\n",
    "SELECT DISTINCT DATE_FORMAT(order_date, '%Y%m%d') AS time_id,\n",
    "YEAR(order_date) AS year,\n",
    "QUARTER(order_date) AS quarter,\n",
    "MONTH(order_date) AS month,\n",
    "DAY(order_date) AS day,\n",
    "DAYOFWEEK(order_date) AS day_of_week,\n",
    "DAYOFYEAR(order_date) AS day_of_year,\n",
    "WEEK(order_date) AS week_of_year,\n",
    "CASE WHEN DAYOFWEEK(order_date) IN (1,7) THEN TRUE ELSE FALSE END AS is_weekend\n",
    "FROM orders\n",
    "\"\"\"\n",
    "\n",
    "df_dimension_time = t.transform_time_from_order(query, conn_retail_db)\n",
    "df_dimension_time.head()"
   ]
  }
 ],
 "metadata": {
  "kernelspec": {
   "display_name": "Python 3 (ipykernel)",
   "language": "python",
   "name": "python3"
  }
 },
 "nbformat": 4,
 "nbformat_minor": 2
}
